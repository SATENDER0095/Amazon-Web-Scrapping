{
 "cells": [
  {
   "cell_type": "code",
   "execution_count": 9,
   "id": "18fcbe32",
   "metadata": {},
   "outputs": [],
   "source": [
    "#import libraries\n",
    "\n",
    "from bs4 import BeautifulSoup\n",
    "import requests\n",
    "import smtplib         #sending emails\n",
    "import time\n",
    "import datetime"
   ]
  },
  {
   "cell_type": "code",
   "execution_count": 11,
   "id": "a67dab8f",
   "metadata": {},
   "outputs": [],
   "source": [
    "#connect to website\n",
    "URL = 'https://www.amazon.in/gp/product/B08SJVD8QD/ref=ox_sc_saved_image_2?smid=A1AKB2PTZVDZAX&psc=1'\n",
    "headers = {\"User-Agent\": \"Mozilla/5.0 (Windows NT 10.0; Win64; x64) AppleWebKit/537.36 (KHTML, like Gecko) Chrome/102.0.5005.63 Safari/537.36\"}\n"
   ]
  },
  {
   "cell_type": "code",
   "execution_count": 85,
   "id": "0e6a6dce",
   "metadata": {},
   "outputs": [
    {
     "name": "stdout",
     "output_type": "stream",
     "text": [
      "Bigmuscles Nutrition Premium Gold Whey 1Kg Whey Protein Isolate Blend | USA FDA REGD. BRAND | 25g Protein Per Serving [Belgian Chocolate]\n",
      "1699\n",
      "2022-06-03\n"
     ]
    }
   ],
   "source": [
    "# Connect to Website and pull in data\n",
    "\n",
    "# URL = 'https://www.amazon.com/Funny-Data-Systems-Business-Analyst/dp/B07FNW9FGJ/ref=sr_1_3?dchild=1&keywords=data%2Banalyst%2Btshirt&qid=1626655184&sr=8-3&customId=B0752XJYNL&th=1'\n",
    "URL = 'https://www.amazon.in/gp/product/B084H8LWC3/ref=ox_sc_saved_title_1?smid=AT95IG9ONZD7S&th=1'\n",
    "headers = {\"User-Agent\": \"Mozilla/5.0 (Windows NT 10.0; Win64; x64) AppleWebKit/537.36 (KHTML, like Gecko) Chrome/78.0.3904.108 Safari/537.36\", \"Accept-Encoding\":\"gzip, deflate\", \"Accept\":\"text/html,application/xhtml+xml,application/xml;q=0.9,*/*;q=0.8\", \"DNT\":\"1\",\"Connection\":\"close\", \"Upgrade-Insecure-Requests\":\"1\"}\n",
    "\n",
    "page = requests.get(URL, headers=headers)\n",
    "\n",
    "soup1 = BeautifulSoup(page.content, \"html.parser\")\n",
    "\n",
    "soup2 = BeautifulSoup(soup1.prettify(), \"html.parser\")\n",
    "\n",
    "title = soup2.find(id='productTitle').get_text()\n",
    "price = soup2.find(class_ =\"a-offscreen\").get_text()\n",
    "\n",
    "#Cleanup data a little bit\n",
    "title = title.strip()\n",
    "price = price.strip()[1:2]+price.strip()[3:6]\n",
    "print(title)\n",
    "print(price)\n",
    "\n",
    "# Create a Timestamp for your output to track when data was collected\n",
    "today = datetime.date.today()\n",
    "print(today)"
   ]
  },
  {
   "cell_type": "code",
   "execution_count": 59,
   "id": "b0226a35",
   "metadata": {},
   "outputs": [],
   "source": [
    "import csv\n",
    "\n",
    "header = ['Title','Price','Date']\n",
    "data = [title,price,today]\n",
    "\n",
    "with open('AmazonWebScrapperDataset.csv','w',newline='',encoding='UTF-8') as f:\n",
    "    writer = csv.writer(f)\n",
    "    writer.writerow(header)\n",
    "    writer.writerow(data)\n",
    "    \n"
   ]
  },
  {
   "cell_type": "code",
   "execution_count": 71,
   "id": "c073ec87",
   "metadata": {},
   "outputs": [
    {
     "name": "stdout",
     "output_type": "stream",
     "text": [
      "                                               Title      Price        Date\n",
      "0  Bigmuscles Nutrition Premium Gold Whey 1Kg Whe...  ₹1,699.00  2022-06-03\n"
     ]
    }
   ],
   "source": [
    "import pandas as pd\n",
    "\n",
    "df = pd.read_csv('AmazonWebScrapperDataset.csv')\n",
    "\n",
    "print(df)"
   ]
  },
  {
   "cell_type": "code",
   "execution_count": 72,
   "id": "97bf2269",
   "metadata": {},
   "outputs": [],
   "source": [
    "#Now we are appending data to the csv\n",
    "\n",
    "with open('AmazonWebScraperDataset.csv', 'a+', newline='', encoding='UTF-8') as f:\n",
    "    writer = csv.writer(f)\n",
    "    writer.writerow(data)"
   ]
  },
  {
   "cell_type": "code",
   "execution_count": null,
   "id": "9b056be6",
   "metadata": {},
   "outputs": [],
   "source": []
  },
  {
   "cell_type": "code",
   "execution_count": 90,
   "id": "5002f146",
   "metadata": {},
   "outputs": [],
   "source": [
    "def check_price():\n",
    "    import csv\n",
    "    from bs4 import BeautifulSoup\n",
    "    import requests\n",
    "    import smtplib         #sending emails\n",
    "    import time\n",
    "    import datetime\n",
    "    \n",
    "    URL = 'https://www.amazon.in/gp/product/B084H8LWC3/ref=ox_sc_saved_title_1?smid=AT95IG9ONZD7S&th=1'\n",
    "    headers = {\"User-Agent\": \"Mozilla/5.0 (Windows NT 10.0; Win64; x64) AppleWebKit/537.36 (KHTML, like Gecko) Chrome/78.0.3904.108 Safari/537.36\", \"Accept-Encoding\":\"gzip, deflate\", \"Accept\":\"text/html,application/xhtml+xml,application/xml;q=0.9,*/*;q=0.8\", \"DNT\":\"1\",\"Connection\":\"close\", \"Upgrade-Insecure-Requests\":\"1\"}\n",
    "\n",
    "    page = requests.get(URL, headers=headers)\n",
    "\n",
    "    soup1 = BeautifulSoup(page.content, \"html.parser\")\n",
    "\n",
    "    soup2 = BeautifulSoup(soup1.prettify(), \"html.parser\")\n",
    "\n",
    "    title = soup2.find(id='productTitle').get_text()\n",
    "    price = soup2.find(class_ =\"a-offscreen\").get_text()\n",
    "\n",
    "    #Cleanup data a little bit\n",
    "    title = title.strip()\n",
    "    price = price.strip()\n",
    "    \n",
    "    \n",
    "    # Create a Timestamp for your output to track when data was collected\n",
    "    today = datetime.date.today()\n",
    "    \n",
    "    header = ['Title','Price','Date']\n",
    "    data = [title,price,today]\n",
    "    \n",
    "    #Now we are appending data to the csv\n",
    "\n",
    "    with open('AmazonWebScrapperDataset.csv', 'a+', newline='', encoding='UTF-8') as f:\n",
    "        writer = csv.writer(f)\n",
    "        writer.writerow(data)\n",
    "    \n",
    "    if int(price)>1400:\n",
    "        send_mail()"
   ]
  },
  {
   "cell_type": "code",
   "execution_count": 91,
   "id": "c845b8d5",
   "metadata": {},
   "outputs": [],
   "source": [
    "# If uou want to try sending yourself an email (just for fun) when a price hits below a certain level you can try it\n",
    "# out with this script\n",
    "\n",
    "def send_mail():\n",
    "    server = smtplib.SMTP_SSL('smtp.gmail.com',465)\n",
    "    server.ehlo()\n",
    "    #server.starttls()\n",
    "    server.ehlo()\n",
    "    server.login('satender0095@gmail.com','xxxxxxxxxxxxxx')\n",
    "    \n",
    "    subject = \"The Protein you want is below 1400! Now is your chance to buy!\"\n",
    "    body = \"Satender, This is the moment we have been waiting for. Now is your chance to pick up the Protein of your dreams. Don't mess it up! Link here: https://www.amazon.in/gp/product/B08SJVD8QD/ref=ox_sc_saved_image_2?smid=A1AKB2PTZVDZAX&psc=1\"\n",
    "   \n",
    "    msg = f\"Subject: {subject}\\n\\n{body}\"\n",
    "    \n",
    "    server.sendmail(\n",
    "        'satender0095@gmail.com',\n",
    "        msg\n",
    "     \n",
    "    )"
   ]
  },
  {
   "cell_type": "code",
   "execution_count": 93,
   "id": "3facbeb8",
   "metadata": {},
   "outputs": [
    {
     "name": "stdout",
     "output_type": "stream",
     "text": [
      "Start Again\n"
     ]
    }
   ],
   "source": [
    "try:\n",
    "    while(True):\n",
    "        check_price()\n",
    "        time.sleep(86400)\n",
    "except:\n",
    "    print('Start Again')"
   ]
  },
  {
   "cell_type": "code",
   "execution_count": null,
   "id": "1d525351",
   "metadata": {},
   "outputs": [],
   "source": []
  }
 ],
 "metadata": {
  "kernelspec": {
   "display_name": "Python 3 (ipykernel)",
   "language": "python",
   "name": "python3"
  },
  "language_info": {
   "codemirror_mode": {
    "name": "ipython",
    "version": 3
   },
   "file_extension": ".py",
   "mimetype": "text/x-python",
   "name": "python",
   "nbconvert_exporter": "python",
   "pygments_lexer": "ipython3",
   "version": "3.10.4"
  }
 },
 "nbformat": 4,
 "nbformat_minor": 5
}
